{
 "cells": [
  {
   "cell_type": "markdown",
   "id": "c83f4fe1-e9ff-4a7a-91c6-c5a71894f2f2",
   "metadata": {},
   "source": [
    "# Generate Medical Multiple-Choice-Questions (MCQs)"
   ]
  },
  {
   "cell_type": "markdown",
   "id": "23e6841b-50a5-4e53-a2b6-7bd1a0054327",
   "metadata": {},
   "source": [
    "In this notebook, we will use medical summaries and the llama3.1 model to generate educational learning objectives and associated multiple-choice questions. This will then be used to train a small Phi2 LLM model."
   ]
  },
  {
   "cell_type": "markdown",
   "id": "38ed1300-950e-470e-b561-6dcda1047705",
   "metadata": {},
   "source": [
    "## Imports"
   ]
  },
  {
   "cell_type": "code",
   "execution_count": 1,
   "id": "6f0b4146-ca8d-44f4-9d45-87c97db9b87f",
   "metadata": {},
   "outputs": [],
   "source": [
    "import sys\n",
    "from pathlib import Path\n",
    "\n",
    "# Add the root directory to sys.path\n",
    "root_path = Path().resolve().parent\n",
    "sys.path.append(str(root_path))\n",
    "\n",
    "%load_ext autoreload\n",
    "%autoreload 2"
   ]
  },
  {
   "cell_type": "code",
   "execution_count": 2,
   "id": "68e673ba-7fb8-4c5c-a721-86d0e66c5ca4",
   "metadata": {},
   "outputs": [],
   "source": [
    "import os\n",
    "import json\n",
    "import pandas as pd\n",
    "from tqdm import tqdm\n",
    "from collections import defaultdict\n",
    "from src.mcq_generator import MCQGenerator"
   ]
  },
  {
   "cell_type": "markdown",
   "id": "53a40170-ef38-465f-b0ef-8929f803b0c3",
   "metadata": {},
   "source": [
    "## Generate MCQs from summaries"
   ]
  },
  {
   "cell_type": "code",
   "execution_count": 3,
   "id": "f7e45f89-193b-4537-bbe8-e3a997db35a5",
   "metadata": {},
   "outputs": [],
   "source": [
    "SUMMARY_CSV = \"../data/synthetic_contexts/summary_per_focus_1000.csv\"\n",
    "QA_CSV = \"../data/parsed_csv/qa_clean.csv\"\n",
    "OUT_PATH = \"../data/synthetic_contexts/generated_mcqs_llama_1000.jsonl\""
   ]
  },
  {
   "cell_type": "code",
   "execution_count": 4,
   "id": "1ad961fd-a83e-4945-9756-2b666bd8ec20",
   "metadata": {},
   "outputs": [],
   "source": [
    "df_summary = pd.read_csv(SUMMARY_CSV)\n",
    "df_qa = pd.read_csv(QA_CSV)"
   ]
  },
  {
   "cell_type": "code",
   "execution_count": 5,
   "id": "70893b36-b225-4e3d-97ef-5db6d2e79417",
   "metadata": {},
   "outputs": [
    {
     "data": {
      "text/plain": [
       "{'causes',\n",
       " 'exams and tests',\n",
       " 'information',\n",
       " 'prevention',\n",
       " 'susceptibility',\n",
       " 'symptoms',\n",
       " 'treatment'}"
      ]
     },
     "execution_count": 5,
     "metadata": {},
     "output_type": "execute_result"
    }
   ],
   "source": [
    "# Map each focus subject to a qtype list. This list will help the Llama model to generate a coherent learning objective\n",
    "focus_to_qtypes = defaultdict(set)\n",
    "for _, row in df_qa.iterrows():\n",
    "    focus_to_qtypes[row['focus']].add(row['question_type'].lower())\n",
    "focus_to_qtypes['Anemia']"
   ]
  },
  {
   "cell_type": "code",
   "execution_count": 6,
   "id": "418adcad-e34d-40d5-b097-4ed2fc711f84",
   "metadata": {},
   "outputs": [],
   "source": [
    "# Initialize generator\n",
    "mcq_generator = MCQGenerator()\n",
    "results = []"
   ]
  },
  {
   "cell_type": "code",
   "execution_count": 7,
   "id": "c1546303-93c6-4298-bcbb-3cc512fd018f",
   "metadata": {
    "scrolled": true
   },
   "outputs": [
    {
     "name": "stderr",
     "output_type": "stream",
     "text": [
      " 16%|█████▍                             | 157/1000 [2:39:54<13:58:26, 59.68s/it]"
     ]
    },
    {
     "name": "stdout",
     "output_type": "stream",
     "text": [
      "[WARNING] Incomplete MCQ on attempt 1 → Retrying...\n"
     ]
    },
    {
     "name": "stderr",
     "output_type": "stream",
     "text": [
      " 21%|███████▍                           | 212/1000 [3:30:15<11:25:35, 52.20s/it]"
     ]
    },
    {
     "name": "stdout",
     "output_type": "stream",
     "text": [
      "[WARNING] Incomplete MCQ on attempt 1 → Retrying...\n"
     ]
    },
    {
     "name": "stderr",
     "output_type": "stream",
     "text": [
      " 32%|███████████▍                       | 325/1000 [5:22:27<11:01:07, 58.77s/it]"
     ]
    },
    {
     "name": "stdout",
     "output_type": "stream",
     "text": [
      "[WARNING] Incomplete MCQ on attempt 1 → Retrying...\n"
     ]
    },
    {
     "name": "stderr",
     "output_type": "stream",
     "text": [
      " 33%|███████████▍                       | 328/1000 [5:25:56<12:12:15, 65.38s/it]"
     ]
    },
    {
     "name": "stdout",
     "output_type": "stream",
     "text": [
      "[WARNING] Incomplete MCQ on attempt 1 → Retrying...\n"
     ]
    },
    {
     "name": "stderr",
     "output_type": "stream",
     "text": [
      " 34%|████████████                       | 344/1000 [5:41:21<10:38:13, 58.37s/it]"
     ]
    },
    {
     "name": "stdout",
     "output_type": "stream",
     "text": [
      "[WARNING] Incomplete MCQ on attempt 1 → Retrying...\n"
     ]
    },
    {
     "name": "stderr",
     "output_type": "stream",
     "text": [
      " 36%|████████████▊                      | 365/1000 [6:03:28<10:13:06, 57.93s/it]"
     ]
    },
    {
     "name": "stdout",
     "output_type": "stream",
     "text": [
      "[WARNING] Incomplete MCQ on attempt 1 → Retrying...\n"
     ]
    },
    {
     "name": "stderr",
     "output_type": "stream",
     "text": [
      " 75%|██████████████████████████▎        | 752/1000 [12:05:21<3:02:34, 44.17s/it]"
     ]
    },
    {
     "name": "stdout",
     "output_type": "stream",
     "text": [
      "[WARNING] Incomplete MCQ on attempt 1 → Retrying...\n"
     ]
    },
    {
     "name": "stderr",
     "output_type": "stream",
     "text": [
      " 78%|███████████████████████████▎       | 780/1000 [12:33:56<3:48:02, 62.19s/it]"
     ]
    },
    {
     "name": "stdout",
     "output_type": "stream",
     "text": [
      "[WARNING] Incomplete MCQ on attempt 1 → Retrying...\n"
     ]
    },
    {
     "name": "stderr",
     "output_type": "stream",
     "text": [
      " 82%|████████████████████████████▊      | 824/1000 [13:15:11<2:44:26, 56.06s/it]"
     ]
    },
    {
     "name": "stdout",
     "output_type": "stream",
     "text": [
      "[WARNING] Incomplete MCQ on attempt 1 → Retrying...\n"
     ]
    },
    {
     "name": "stderr",
     "output_type": "stream",
     "text": [
      " 92%|████████████████████████████████   | 915/1000 [14:42:15<1:17:55, 55.00s/it]"
     ]
    },
    {
     "name": "stdout",
     "output_type": "stream",
     "text": [
      "[WARNING] Incomplete MCQ on attempt 1 → Retrying...\n"
     ]
    },
    {
     "name": "stderr",
     "output_type": "stream",
     "text": [
      "100%|████████████████████████████████████▉| 997/1000 [16:09:15<03:27, 69.25s/it]"
     ]
    },
    {
     "name": "stdout",
     "output_type": "stream",
     "text": [
      "[WARNING] Incomplete MCQ on attempt 1 → Retrying...\n"
     ]
    },
    {
     "name": "stderr",
     "output_type": "stream",
     "text": [
      "100%|████████████████████████████████████| 1000/1000 [16:12:32<00:00, 58.35s/it]\n"
     ]
    }
   ],
   "source": [
    "# Generate MCQ per summary using llama model\n",
    "for _, row in tqdm(df_summary.iterrows(), total=len(df_summary)):\n",
    "    focus = row['focus']\n",
    "    qtypes = list(focus_to_qtypes.get(focus, []))\n",
    "    mcq = mcq_generator.generate_mcq(summary=row['summary'], qtypes=qtypes)\n",
    "    if mcq:\n",
    "        mcq_record = {\n",
    "            \"focus\": focus,\n",
    "            \"qtypes\": qtypes,\n",
    "            \"summary\": row['summary'],\n",
    "            \"objective\": mcq['objective'],\n",
    "            \"question\": mcq['question'],\n",
    "            \"options\": mcq['options'],\n",
    "            \"answer\": mcq['answer'],\n",
    "            \"explanation\": mcq['explanation'],\n",
    "        }\n",
    "        results.append(mcq_record)"
   ]
  },
  {
   "cell_type": "code",
   "execution_count": 8,
   "id": "32c92134-f567-4ffc-9f23-ef7f4eb5cae8",
   "metadata": {},
   "outputs": [
    {
     "name": "stdout",
     "output_type": "stream",
     "text": [
      "Generated 1000 MCQs in ../data/synthetic_contexts/generated_mcqs_llama_1000.jsonl\n"
     ]
    }
   ],
   "source": [
    "os.makedirs(os.path.dirname(OUT_PATH), exist_ok=True)\n",
    "with open(OUT_PATH, 'w') as f:\n",
    "    for r in results:\n",
    "        f.write(json.dumps(r) + '\\n')\n",
    "\n",
    "print(f\"Generated {len(results)} MCQs in {OUT_PATH}\")"
   ]
  },
  {
   "cell_type": "code",
   "execution_count": 9,
   "id": "9c34cc4a-6c31-4f06-9064-de55c50d92b9",
   "metadata": {},
   "outputs": [
    {
     "data": {
      "text/plain": [
       "{'focus': 'Piriformis Syndrome',\n",
       " 'qtypes': ['outlook', 'treatment', 'information', 'research'],\n",
       " 'summary': 'Piriformis Syndrome is a neuromuscular disorder that occurs when the piriformis muscle compresses or irritates the sciatic nerve, causing pain and numbness in the buttocks and legs. This condition can be exacerbated by activities such as sitting, climbing stairs, walking, or running.\\n\\nTreatment typically begins with stretching exercises, massage, and anti-inflammatory medication to reduce inflammation and alleviate symptoms. In some cases, a corticosteroid injection may provide temporary relief, while cessation of certain activities may be recommended. Surgery is also an option in severe cases.\\n\\nThe prognosis for most individuals with piriformis syndrome is good, with symptoms typically resolving once addressed through treatment. However, exercise regimens may need to be modified to reduce the likelihood of recurrence or worsening.\\n\\nResearch into piriformis syndrome is ongoing, primarily within pain research programs aimed at developing new treatments for nerve damage and pain conditions like piriformis syndrome.',\n",
       " 'objective': 'Evaluate the prognosis and management strategies for patients with Piriformis Syndrome.',\n",
       " 'question': 'A 35-year-old patient is diagnosed with Piriformis Syndrome. What is the expected outcome of conservative management in this case?',\n",
       " 'options': {'A': 'Full recovery within a week with no need for further intervention',\n",
       "  'B': 'Symptoms will persist, requiring ongoing treatment with corticosteroid injections',\n",
       "  'C': 'Modified exercise regimens and cessation of aggravating activities are likely to improve symptoms significantly',\n",
       "  'D': 'Surgery is the most effective treatment option due to severe nerve damage'},\n",
       " 'answer': 'C',\n",
       " 'explanation': 'Conservative management typically involves stretching exercises, massage, and anti-inflammatory medication, which can alleviate symptoms in most individuals with Piriformis Syndrome. Modified exercise regimens and cessation of aggravating activities are likely to improve symptoms significantly, making this the most appropriate choice for a patient diagnosed with Piriformis Syndrome.'}"
      ]
     },
     "execution_count": 9,
     "metadata": {},
     "output_type": "execute_result"
    }
   ],
   "source": [
    "results[166]"
   ]
  },
  {
   "cell_type": "code",
   "execution_count": null,
   "id": "738b2ea2-7854-4d4b-800b-5b3f2d8ae249",
   "metadata": {},
   "outputs": [],
   "source": []
  }
 ],
 "metadata": {
  "kernelspec": {
   "display_name": "Python 3 (ipykernel)",
   "language": "python",
   "name": "python3"
  },
  "language_info": {
   "codemirror_mode": {
    "name": "ipython",
    "version": 3
   },
   "file_extension": ".py",
   "mimetype": "text/x-python",
   "name": "python",
   "nbconvert_exporter": "python",
   "pygments_lexer": "ipython3",
   "version": "3.12.3"
  }
 },
 "nbformat": 4,
 "nbformat_minor": 5
}
