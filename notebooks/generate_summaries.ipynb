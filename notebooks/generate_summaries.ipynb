{
 "cells": [
  {
   "cell_type": "markdown",
   "id": "4718700b-c6b3-4e88-b9ca-6ea5abe65b65",
   "metadata": {},
   "source": [
    "## Generate synthetic clinical summaries for MCQ context"
   ]
  },
  {
   "cell_type": "markdown",
   "id": "e4dac212-78c4-427c-987b-e011c94e2e46",
   "metadata": {},
   "source": [
    "Goal:\n",
    "- For each group of questions (same focus), generate a compact clinical summary\n",
    "- Summary format: plain text paragraph (simulating patient vignette)\n",
    "- Use llama3.1 to generate from grouped QA pairs"
   ]
  },
  {
   "cell_type": "code",
   "execution_count": 21,
   "id": "23ae7219-4fa1-482d-a720-1f650435e0ab",
   "metadata": {},
   "outputs": [
    {
     "name": "stdout",
     "output_type": "stream",
     "text": [
      "The autoreload extension is already loaded. To reload it, use:\n",
      "  %reload_ext autoreload\n"
     ]
    }
   ],
   "source": [
    "import sys\n",
    "from pathlib import Path\n",
    "\n",
    "# Add the root directory to sys.path\n",
    "root_path = Path().resolve().parent\n",
    "sys.path.append(str(root_path))\n",
    "\n",
    "%load_ext autoreload\n",
    "%autoreload 2"
   ]
  },
  {
   "cell_type": "code",
   "execution_count": 50,
   "id": "5ecc9110-20da-4e43-a045-ef10ad8f7937",
   "metadata": {},
   "outputs": [],
   "source": [
    "import os\n",
    "import pandas as pd\n",
    "from tqdm import tqdm\n",
    "from collections import defaultdict\n",
    "from itertools import islice\n",
    "from src.summary_generator import SummaryGenerator"
   ]
  },
  {
   "cell_type": "code",
   "execution_count": 23,
   "id": "4b8e3825-20c2-438a-9d52-1c3257dfba30",
   "metadata": {},
   "outputs": [],
   "source": [
    "IN_PATH = \"../data/parsed_csv/qa_clean.csv\"\n",
    "OUT_PATH = \"../data/synthetic_contexts/summary_per_focus.csv\""
   ]
  },
  {
   "cell_type": "code",
   "execution_count": 24,
   "id": "970cb3e9-ab4c-4b6f-b37b-cb2789a3b91d",
   "metadata": {},
   "outputs": [
    {
     "data": {
      "text/html": [
       "<div>\n",
       "<style scoped>\n",
       "    .dataframe tbody tr th:only-of-type {\n",
       "        vertical-align: middle;\n",
       "    }\n",
       "\n",
       "    .dataframe tbody tr th {\n",
       "        vertical-align: top;\n",
       "    }\n",
       "\n",
       "    .dataframe thead th {\n",
       "        text-align: right;\n",
       "    }\n",
       "</style>\n",
       "<table border=\"1\" class=\"dataframe\">\n",
       "  <thead>\n",
       "    <tr style=\"text-align: right;\">\n",
       "      <th></th>\n",
       "      <th>question_id</th>\n",
       "      <th>document_id</th>\n",
       "      <th>source</th>\n",
       "      <th>focus</th>\n",
       "      <th>question_type</th>\n",
       "      <th>question</th>\n",
       "      <th>answer</th>\n",
       "    </tr>\n",
       "  </thead>\n",
       "  <tbody>\n",
       "    <tr>\n",
       "      <th>0</th>\n",
       "      <td>0000309-1</td>\n",
       "      <td>0000309</td>\n",
       "      <td>MPlusHealthTopics</td>\n",
       "      <td>E. Coli Infections</td>\n",
       "      <td>information</td>\n",
       "      <td>What is (are) E. Coli Infections?</td>\n",
       "      <td>E. coli is the name of a type of bacteria that...</td>\n",
       "    </tr>\n",
       "    <tr>\n",
       "      <th>1</th>\n",
       "      <td>0000139-1</td>\n",
       "      <td>0000139</td>\n",
       "      <td>MPlusHealthTopics</td>\n",
       "      <td>Calcium</td>\n",
       "      <td>information</td>\n",
       "      <td>Do you have information about Calcium</td>\n",
       "      <td>Summary: You have more calcium in your body th...</td>\n",
       "    </tr>\n",
       "    <tr>\n",
       "      <th>2</th>\n",
       "      <td>0000794-1</td>\n",
       "      <td>0000794</td>\n",
       "      <td>MPlusHealthTopics</td>\n",
       "      <td>Scabies</td>\n",
       "      <td>information</td>\n",
       "      <td>What is (are) Scabies?</td>\n",
       "      <td>Scabies is an itchy skin condition caused by t...</td>\n",
       "    </tr>\n",
       "    <tr>\n",
       "      <th>3</th>\n",
       "      <td>0000410-1</td>\n",
       "      <td>0000410</td>\n",
       "      <td>MPlusHealthTopics</td>\n",
       "      <td>Granulomatosis with Polyangiitis</td>\n",
       "      <td>information</td>\n",
       "      <td>What is (are) Granulomatosis with Polyangiitis?</td>\n",
       "      <td>Granulomatosis with polyangiitis (GPA), previo...</td>\n",
       "    </tr>\n",
       "    <tr>\n",
       "      <th>4</th>\n",
       "      <td>0000677-1</td>\n",
       "      <td>0000677</td>\n",
       "      <td>MPlusHealthTopics</td>\n",
       "      <td>Ozone</td>\n",
       "      <td>information</td>\n",
       "      <td>Do you have information about Ozone</td>\n",
       "      <td>Summary: Ozone is a gas. It can be good or bad...</td>\n",
       "    </tr>\n",
       "    <tr>\n",
       "      <th>...</th>\n",
       "      <td>...</td>\n",
       "      <td>...</td>\n",
       "      <td>...</td>\n",
       "      <td>...</td>\n",
       "      <td>...</td>\n",
       "      <td>...</td>\n",
       "      <td>...</td>\n",
       "    </tr>\n",
       "    <tr>\n",
       "      <th>16349</th>\n",
       "      <td>0000009-4</td>\n",
       "      <td>0000009</td>\n",
       "      <td>NHLBI</td>\n",
       "      <td>Asbestos-Related Lung Diseases</td>\n",
       "      <td>susceptibility</td>\n",
       "      <td>Who is at risk for Asbestos-Related Lung Disea...</td>\n",
       "      <td>Until the late 1970s, asbestos was widely used...</td>\n",
       "    </tr>\n",
       "    <tr>\n",
       "      <th>16350</th>\n",
       "      <td>0000009-5</td>\n",
       "      <td>0000009</td>\n",
       "      <td>NHLBI</td>\n",
       "      <td>Asbestos-Related Lung Diseases</td>\n",
       "      <td>symptoms</td>\n",
       "      <td>What are the symptoms of Asbestos-Related Lung...</td>\n",
       "      <td>The signs and symptoms of asbestos-related lun...</td>\n",
       "    </tr>\n",
       "    <tr>\n",
       "      <th>16351</th>\n",
       "      <td>0000009-6</td>\n",
       "      <td>0000009</td>\n",
       "      <td>NHLBI</td>\n",
       "      <td>Asbestos-Related Lung Diseases</td>\n",
       "      <td>exams and tests</td>\n",
       "      <td>How to diagnose Asbestos-Related Lung Diseases?</td>\n",
       "      <td>Your doctor will diagnose an asbestos-related ...</td>\n",
       "    </tr>\n",
       "    <tr>\n",
       "      <th>16352</th>\n",
       "      <td>0000009-7</td>\n",
       "      <td>0000009</td>\n",
       "      <td>NHLBI</td>\n",
       "      <td>Asbestos-Related Lung Diseases</td>\n",
       "      <td>treatment</td>\n",
       "      <td>What are the treatments for Asbestos-Related L...</td>\n",
       "      <td>No treatments can reverse the effects of asbes...</td>\n",
       "    </tr>\n",
       "    <tr>\n",
       "      <th>16353</th>\n",
       "      <td>0000009-8</td>\n",
       "      <td>0000009</td>\n",
       "      <td>NHLBI</td>\n",
       "      <td>Asbestos-Related Lung Diseases</td>\n",
       "      <td>prevention</td>\n",
       "      <td>How to prevent Asbestos-Related Lung Diseases?</td>\n",
       "      <td>You can prevent asbestos-related lung diseases...</td>\n",
       "    </tr>\n",
       "  </tbody>\n",
       "</table>\n",
       "<p>16354 rows × 7 columns</p>\n",
       "</div>"
      ],
      "text/plain": [
       "      question_id document_id             source  \\\n",
       "0       0000309-1     0000309  MPlusHealthTopics   \n",
       "1       0000139-1     0000139  MPlusHealthTopics   \n",
       "2       0000794-1     0000794  MPlusHealthTopics   \n",
       "3       0000410-1     0000410  MPlusHealthTopics   \n",
       "4       0000677-1     0000677  MPlusHealthTopics   \n",
       "...           ...         ...                ...   \n",
       "16349   0000009-4     0000009              NHLBI   \n",
       "16350   0000009-5     0000009              NHLBI   \n",
       "16351   0000009-6     0000009              NHLBI   \n",
       "16352   0000009-7     0000009              NHLBI   \n",
       "16353   0000009-8     0000009              NHLBI   \n",
       "\n",
       "                                  focus    question_type  \\\n",
       "0                    E. Coli Infections      information   \n",
       "1                               Calcium      information   \n",
       "2                               Scabies      information   \n",
       "3      Granulomatosis with Polyangiitis      information   \n",
       "4                                 Ozone      information   \n",
       "...                                 ...              ...   \n",
       "16349    Asbestos-Related Lung Diseases   susceptibility   \n",
       "16350    Asbestos-Related Lung Diseases         symptoms   \n",
       "16351    Asbestos-Related Lung Diseases  exams and tests   \n",
       "16352    Asbestos-Related Lung Diseases        treatment   \n",
       "16353    Asbestos-Related Lung Diseases       prevention   \n",
       "\n",
       "                                                question  \\\n",
       "0                      What is (are) E. Coli Infections?   \n",
       "1                  Do you have information about Calcium   \n",
       "2                                 What is (are) Scabies?   \n",
       "3        What is (are) Granulomatosis with Polyangiitis?   \n",
       "4                    Do you have information about Ozone   \n",
       "...                                                  ...   \n",
       "16349  Who is at risk for Asbestos-Related Lung Disea...   \n",
       "16350  What are the symptoms of Asbestos-Related Lung...   \n",
       "16351    How to diagnose Asbestos-Related Lung Diseases?   \n",
       "16352  What are the treatments for Asbestos-Related L...   \n",
       "16353     How to prevent Asbestos-Related Lung Diseases?   \n",
       "\n",
       "                                                  answer  \n",
       "0      E. coli is the name of a type of bacteria that...  \n",
       "1      Summary: You have more calcium in your body th...  \n",
       "2      Scabies is an itchy skin condition caused by t...  \n",
       "3      Granulomatosis with polyangiitis (GPA), previo...  \n",
       "4      Summary: Ozone is a gas. It can be good or bad...  \n",
       "...                                                  ...  \n",
       "16349  Until the late 1970s, asbestos was widely used...  \n",
       "16350  The signs and symptoms of asbestos-related lun...  \n",
       "16351  Your doctor will diagnose an asbestos-related ...  \n",
       "16352  No treatments can reverse the effects of asbes...  \n",
       "16353  You can prevent asbestos-related lung diseases...  \n",
       "\n",
       "[16354 rows x 7 columns]"
      ]
     },
     "execution_count": 24,
     "metadata": {},
     "output_type": "execute_result"
    }
   ],
   "source": [
    "qa_df = pd.read_csv(IN_PATH)\n",
    "qa_df"
   ]
  },
  {
   "cell_type": "code",
   "execution_count": 25,
   "id": "60e9a559-c80a-4586-b98e-ae82c3091d83",
   "metadata": {},
   "outputs": [
    {
     "name": "stdout",
     "output_type": "stream",
     "text": [
      "5125\n",
      "[('What is (are) Sialadenitis?', 'Sialadenitis is an infection of the salivary glands. It is usually caused by a virus or bacteria. The parotid (in front of the ear) and submandibular (under the chin) glands are most commonly affected. Sialadenitis may be associated with pain, tenderness, redness, and gradual, localized swelling of the affected area. There are both acute and chronic forms. Although it is quite common among elderly adults with salivary gland stones, sialadenitis can also occur in other age groups, including infants during the first few weeks of life. Without proper treatment, sialadenitis can develop into a severe infection, especially in people who are debilitated or elderly.'), ('What are the symptoms of Sialadenitis?', 'What are the signs and symptoms of sialadenitis? Signs and symptoms of sialadenitis may include fever, chills, and unilateral pain and swelling in the affected area. The affected gland may be firm and tender, with redness of the overlying skin. Pus may drain through the gland into the mouth.'), ('What causes Sialadenitis?', 'What causes sialadenitis? Sialadenitis usually occurs after hyposecretion (reduced flow from the salivary glands) or duct obstruction, but may develop without an obvious cause. Saliva flow can be reduced in people who are sick or recovering from surgery, or people who are dehydrated, malnourished, or immunosuppressed. A stone or a kink in the salivary duct can also diminish saliva flow, as can certain medications (such as antihistamines, diuretics, psychiatric medications, beta-blockers, or barbiturates). It often occurs in chronically ill people with xerostomia (dry mouth), people with Sjogren syndrome, and in those who have had radiation therapy to the oral cavity. The most common causative organism in the infection is Staphylococcus aureus; others include streptococci, coliforms, and various anaerobic bacteria. Although less common than bacteria, several viruses have also been implicated in sialadenitis. These include the mumps virus, HIV, coxsackievirus, parainfluenza types I and II, influenza A, and herpes.'), ('What are the treatments for Sialadenitis?', 'How might sialadenitis be treated? The initial treatment for sialadenitis is antibiotics active against S. aureus. Hydration, ingesting things that trigger saliva flow (such as lemon juice or hard candy), warm compresses, gland massage, and good oral hygiene are also important. Abscesses need to be drained. Occasionally, in cases of chronic or relapsing sialadenitis, a superficial parotidectomy or submandibular gland excision is needed.')]\n"
     ]
    }
   ],
   "source": [
    "focus_groups = defaultdict(list)\n",
    "for _, row in qa_df.iterrows():\n",
    "    focus_groups[row['focus']].append((row['question'], row['answer']))\n",
    "\n",
    "print(len(focus_groups))\n",
    "print(focus_groups['Sialadenitis'])"
   ]
  },
  {
   "cell_type": "code",
   "execution_count": 48,
   "id": "0179a161-6d52-4cc7-b29a-3f170fa34280",
   "metadata": {},
   "outputs": [
    {
     "name": "stderr",
     "output_type": "stream",
     "text": [
      "100it [2:32:20, 91.41s/it]\n"
     ]
    }
   ],
   "source": [
    "summary_generator = SummaryGenerator()\n",
    "\n",
    "results = []\n",
    "\n",
    "for focus, qas in tqdm(islice(focus_groups.items(), 0, 100)):\n",
    "    summary = summary_generator.generate_summary(qas)\n",
    "    results.append({\"focus\": focus, \"summary\": summary})"
   ]
  },
  {
   "cell_type": "code",
   "execution_count": 51,
   "id": "615e077e-50f0-440a-ae27-1ac67c0e60c6",
   "metadata": {},
   "outputs": [
    {
     "name": "stdout",
     "output_type": "stream",
     "text": [
      "Saved: 100 summaries → ../data/synthetic_contexts/summary_per_focus.csv\n"
     ]
    },
    {
     "data": {
      "text/html": [
       "<div>\n",
       "<style scoped>\n",
       "    .dataframe tbody tr th:only-of-type {\n",
       "        vertical-align: middle;\n",
       "    }\n",
       "\n",
       "    .dataframe tbody tr th {\n",
       "        vertical-align: top;\n",
       "    }\n",
       "\n",
       "    .dataframe thead th {\n",
       "        text-align: right;\n",
       "    }\n",
       "</style>\n",
       "<table border=\"1\" class=\"dataframe\">\n",
       "  <thead>\n",
       "    <tr style=\"text-align: right;\">\n",
       "      <th></th>\n",
       "      <th>focus</th>\n",
       "      <th>summary</th>\n",
       "    </tr>\n",
       "  </thead>\n",
       "  <tbody>\n",
       "    <tr>\n",
       "      <th>0</th>\n",
       "      <td>E. Coli Infections</td>\n",
       "      <td>E. coli infections are caused by certain types...</td>\n",
       "    </tr>\n",
       "    <tr>\n",
       "      <th>1</th>\n",
       "      <td>Calcium</td>\n",
       "      <td>Calcium is an essential mineral that plays a c...</td>\n",
       "    </tr>\n",
       "    <tr>\n",
       "      <th>2</th>\n",
       "      <td>Scabies</td>\n",
       "      <td>Scabies is an itchy skin condition caused by t...</td>\n",
       "    </tr>\n",
       "    <tr>\n",
       "      <th>3</th>\n",
       "      <td>Granulomatosis with Polyangiitis</td>\n",
       "      <td>Granulomatosis with polyangiitis (GPA) is a ra...</td>\n",
       "    </tr>\n",
       "    <tr>\n",
       "      <th>4</th>\n",
       "      <td>Ozone</td>\n",
       "      <td>Ozone is a gas that exists in two forms: good ...</td>\n",
       "    </tr>\n",
       "    <tr>\n",
       "      <th>...</th>\n",
       "      <td>...</td>\n",
       "      <td>...</td>\n",
       "    </tr>\n",
       "    <tr>\n",
       "      <th>95</th>\n",
       "      <td>Indoor Air Pollution</td>\n",
       "      <td>Indoor Air Pollution poses a significant healt...</td>\n",
       "    </tr>\n",
       "    <tr>\n",
       "      <th>96</th>\n",
       "      <td>Kidney Cancer</td>\n",
       "      <td>Kidney cancer is a type of cancer that develop...</td>\n",
       "    </tr>\n",
       "    <tr>\n",
       "      <th>97</th>\n",
       "      <td>Oxygen Therapy</td>\n",
       "      <td>Oxygen therapy is a treatment that provides ex...</td>\n",
       "    </tr>\n",
       "    <tr>\n",
       "      <th>98</th>\n",
       "      <td>Salmonella Infections</td>\n",
       "      <td>Salmonella infections are a common cause of fo...</td>\n",
       "    </tr>\n",
       "    <tr>\n",
       "      <th>99</th>\n",
       "      <td>Anabolic Steroids</td>\n",
       "      <td>Anabolic steroids are synthetic hormones that ...</td>\n",
       "    </tr>\n",
       "  </tbody>\n",
       "</table>\n",
       "<p>100 rows × 2 columns</p>\n",
       "</div>"
      ],
      "text/plain": [
       "                               focus  \\\n",
       "0                 E. Coli Infections   \n",
       "1                            Calcium   \n",
       "2                            Scabies   \n",
       "3   Granulomatosis with Polyangiitis   \n",
       "4                              Ozone   \n",
       "..                               ...   \n",
       "95              Indoor Air Pollution   \n",
       "96                     Kidney Cancer   \n",
       "97                    Oxygen Therapy   \n",
       "98             Salmonella Infections   \n",
       "99                 Anabolic Steroids   \n",
       "\n",
       "                                              summary  \n",
       "0   E. coli infections are caused by certain types...  \n",
       "1   Calcium is an essential mineral that plays a c...  \n",
       "2   Scabies is an itchy skin condition caused by t...  \n",
       "3   Granulomatosis with polyangiitis (GPA) is a ra...  \n",
       "4   Ozone is a gas that exists in two forms: good ...  \n",
       "..                                                ...  \n",
       "95  Indoor Air Pollution poses a significant healt...  \n",
       "96  Kidney cancer is a type of cancer that develop...  \n",
       "97  Oxygen therapy is a treatment that provides ex...  \n",
       "98  Salmonella infections are a common cause of fo...  \n",
       "99  Anabolic steroids are synthetic hormones that ...  \n",
       "\n",
       "[100 rows x 2 columns]"
      ]
     },
     "execution_count": 51,
     "metadata": {},
     "output_type": "execute_result"
    }
   ],
   "source": [
    "os.makedirs(os.path.dirname(OUT_PATH), exist_ok=True)\n",
    "sum_df = pd.DataFrame(results)\n",
    "sum_df.to_csv(OUT_PATH, index=False)\n",
    "print(f\"Saved: {len(sum_df)} summaries → {OUT_PATH}\")\n",
    "sum_df"
   ]
  },
  {
   "cell_type": "code",
   "execution_count": 47,
   "id": "5fe6ac6f-0c43-45f4-85fd-137188b6293b",
   "metadata": {},
   "outputs": [
    {
     "data": {
      "text/plain": [
       "'Sialadenitis is an infection of the salivary glands that can cause pain, tenderness, redness, and swelling in the affected area. It often occurs in elderly adults with salivary gland stones, but can also occur in other age groups, including infants. The symptoms may include fever, chills, unilateral pain and swelling, and pus draining through the gland into the mouth.\\n\\nThe infection is usually caused by bacteria such as Staphylococcus aureus or viruses like mumps virus. Certain conditions, including hyposecretion of saliva, duct obstruction, dehydration, malnutrition, immunosuppression, and radiation therapy to the oral cavity, can increase the risk of developing sialadenitis.\\n\\nTreatment typically involves antibiotics active against S. aureus, hydration, and good oral hygiene. Abscesses may need to be drained, and in some cases, surgical excision of the affected gland may be necessary. Early treatment is essential to prevent complications, especially in debilitated or elderly individuals.'"
      ]
     },
     "execution_count": 47,
     "metadata": {},
     "output_type": "execute_result"
    }
   ],
   "source": [
    "# Example\n",
    "summary_generator = SummaryGenerator()\n",
    "summary_generator.generate_summary(focus_groups['Sialadenitis'])"
   ]
  },
  {
   "cell_type": "code",
   "execution_count": 52,
   "id": "f493a7fd-b064-4689-82b5-2f24ce31743c",
   "metadata": {},
   "outputs": [
    {
     "data": {
      "text/plain": [
       "array(['information', 'symptoms', 'causes', 'inheritance',\n",
       "       'exams and tests', 'treatment', 'complications', 'prevention',\n",
       "       'considerations', 'susceptibility', 'frequency', 'outlook',\n",
       "       'research', 'support groups', 'genetic changes', 'stages'],\n",
       "      dtype=object)"
      ]
     },
     "execution_count": 52,
     "metadata": {},
     "output_type": "execute_result"
    }
   ],
   "source": [
    "qa_df['question_type'].unique()"
   ]
  },
  {
   "cell_type": "code",
   "execution_count": null,
   "id": "4ec21118-7882-49ac-a0e6-0fe803799237",
   "metadata": {},
   "outputs": [],
   "source": []
  }
 ],
 "metadata": {
  "kernelspec": {
   "display_name": "Python 3 (ipykernel)",
   "language": "python",
   "name": "python3"
  },
  "language_info": {
   "codemirror_mode": {
    "name": "ipython",
    "version": 3
   },
   "file_extension": ".py",
   "mimetype": "text/x-python",
   "name": "python",
   "nbconvert_exporter": "python",
   "pygments_lexer": "ipython3",
   "version": "3.12.3"
  }
 },
 "nbformat": 4,
 "nbformat_minor": 5
}
